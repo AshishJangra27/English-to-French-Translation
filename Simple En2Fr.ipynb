{
 "cells": [
  {
   "cell_type": "code",
   "execution_count": 18,
   "metadata": {},
   "outputs": [],
   "source": [
    "import numpy as np\n",
    "\n",
    "from keras.models import Model\n",
    "from keras.layers import GRU, Input, Dense, TimeDistributed, Activation, RepeatVector, Bidirectional\n",
    "from keras.optimizers import Adam\n",
    "\n",
    "from keras.preprocessing.text import Tokenizer\n",
    "from keras.preprocessing.sequence import pad_sequences"
   ]
  },
  {
   "cell_type": "code",
   "execution_count": 19,
   "metadata": {},
   "outputs": [],
   "source": [
    "f = open('small_vocab_en.txt','r')\n",
    "en = f.read()\n",
    "\n",
    "f = open('small_vocab_fr.txt','r')\n",
    "fr = f.read()\n",
    "\n",
    "en = en.split('\\n')\n",
    "fr  = fr.split('\\n')"
   ]
  },
  {
   "cell_type": "code",
   "execution_count": 20,
   "metadata": {},
   "outputs": [
    {
     "name": "stdout",
     "output_type": "stream",
     "text": [
      "new jersey is sometimes quiet during autumn , and it is snowy in april .\n",
      "new jersey est parfois calme pendant l' automne , et il est neigeux en avril .\n"
     ]
    }
   ],
   "source": [
    "print(en[0])\n",
    "print(fr[0])"
   ]
  },
  {
   "cell_type": "code",
   "execution_count": 21,
   "metadata": {},
   "outputs": [],
   "source": [
    "en_tk = Tokenizer(char_level = False)\n",
    "en_tk.fit_on_texts(en)\n",
    "\n",
    "fr_tk = Tokenizer(char_level = False)\n",
    "fr_tk.fit_on_texts(fr)\n",
    "\n",
    "en_enc = en_tk.texts_to_sequences(en)\n",
    "fr_enc = fr_tk.texts_to_sequences(fr)"
   ]
  },
  {
   "cell_type": "code",
   "execution_count": 22,
   "metadata": {},
   "outputs": [
    {
     "name": "stdout",
     "output_type": "stream",
     "text": [
      "English:  new jersey is sometimes quiet during autumn , and it is snowy in april .\n",
      "French:  new jersey est parfois calme pendant l' automne , et il est neigeux en avril .\n",
      "Encoded English:  [17, 23, 1, 8, 67, 4, 39, 7, 3, 1, 55, 2, 44]\n",
      "Encoded French :  [35, 34, 1, 8, 67, 37, 11, 24, 6, 3, 1, 112, 2, 50]\n"
     ]
    }
   ],
   "source": [
    "print \"English: \",en[0]\n",
    "print \"French: \",fr[0]\n",
    "print \"Encoded English: \",en_enc[0]\n",
    "print \"Encoded French : \",fr_enc[0]"
   ]
  },
  {
   "cell_type": "code",
   "execution_count": 23,
   "metadata": {},
   "outputs": [],
   "source": [
    "fr_enc = pad_sequences(fr_enc,10)\n",
    "en_enc = pad_sequences(en_enc,10)"
   ]
  },
  {
   "cell_type": "code",
   "execution_count": 24,
   "metadata": {
    "scrolled": true
   },
   "outputs": [
    {
     "name": "stdout",
     "output_type": "stream",
     "text": [
      "('English VocabSize: ', 199)\n",
      "('French  VocabSize: ', 345)\n"
     ]
    }
   ],
   "source": [
    "print(\"English VocabSize: \",len(en_tk.word_index))\n",
    "print(\"French  VocabSize: \",len(fr_tk.word_index))"
   ]
  },
  {
   "cell_type": "code",
   "execution_count": 25,
   "metadata": {},
   "outputs": [],
   "source": [
    "en_enc = np.reshape(en_enc, (137861,10,1))\n",
    "fr_enc = np.reshape(fr_enc, (137861,10,1))"
   ]
  },
  {
   "cell_type": "code",
   "execution_count": 26,
   "metadata": {},
   "outputs": [],
   "source": [
    "input_dim = (10,1)\n",
    "\n",
    "input_seq = Input(input_dim)\n",
    "rnn = GRU(64, return_sequences = True)(input_seq)\n",
    "logits = TimeDistributed(Dense(len(fr_tk.word_index)+1))(rnn)\n",
    "model = Model(input_seq, Activation('softmax')(logits))\n",
    "\n",
    "model.compile(loss = 'sparse_categorical_crossentropy', optimizer = Adam(1e-3), metrics = ['accuracy'])"
   ]
  },
  {
   "cell_type": "markdown",
   "metadata": {},
   "source": [
    "# English to French Translator"
   ]
  },
  {
   "cell_type": "code",
   "execution_count": 27,
   "metadata": {},
   "outputs": [
    {
     "name": "stdout",
     "output_type": "stream",
     "text": [
      "Epoch 1/10\n",
      "137861/137861 [==============================] - 44s 319us/step - loss: 4.2815 - accuracy: 0.1358\n",
      "Epoch 2/10\n",
      "137861/137861 [==============================] - 41s 298us/step - loss: 3.0591 - accuracy: 0.3162\n",
      "Epoch 3/10\n",
      "137861/137861 [==============================] - 49s 352us/step - loss: 2.5204 - accuracy: 0.3947\n",
      "Epoch 4/10\n",
      "137861/137861 [==============================] - 38s 273us/step - loss: 2.2565 - accuracy: 0.4523\n",
      "Epoch 5/10\n",
      "137861/137861 [==============================] - 38s 274us/step - loss: 2.0781 - accuracy: 0.4849\n",
      "Epoch 6/10\n",
      "137861/137861 [==============================] - 41s 300us/step - loss: 1.9593 - accuracy: 0.5091\n",
      "Epoch 7/10\n",
      "137861/137861 [==============================] - 58s 420us/step - loss: 1.8705 - accuracy: 0.5203\n",
      "Epoch 8/10\n",
      "137861/137861 [==============================] - 45s 328us/step - loss: 1.8044 - accuracy: 0.5379\n",
      "Epoch 9/10\n",
      "137861/137861 [==============================] - 40s 291us/step - loss: 1.7540 - accuracy: 0.5484\n",
      "Epoch 10/10\n",
      "137861/137861 [==============================] - 38s 278us/step - loss: 1.7130 - accuracy: 0.5591\n"
     ]
    },
    {
     "data": {
      "text/plain": [
       "<keras.callbacks.callbacks.History at 0xb31713590>"
      ]
     },
     "execution_count": 27,
     "metadata": {},
     "output_type": "execute_result"
    }
   ],
   "source": [
    "model.fit(en_enc, fr_enc , batch_size=1024, epochs = 10)"
   ]
  },
  {
   "cell_type": "code",
   "execution_count": 54,
   "metadata": {},
   "outputs": [
    {
     "name": "stdout",
     "output_type": "stream",
     "text": [
      "----------------------------------------------------------\n",
      "\n",
      "English:  sometimes quiet during autumn and it is snowy in april\n",
      "Actual :  calme pendant l' automne et il est neigeux en avril\n",
      "Pred   :  fruit mois en mars et il est agréable en avril\n",
      "\n",
      "----------------------------------------------------------\n",
      "\n",
      "English:  chilly during july and it is usually freezing in november\n",
      "Actual :  généralement froid en juillet et il gèle habituellement en novembre\n",
      "Pred   :  mois en juillet et il est généralement agréable en novembre\n",
      "\n",
      "----------------------------------------------------------\n",
      "\n",
      "English:  quiet during march and it is usually hot in june\n",
      "Actual :  calme en mars et il est généralement chaud en juin\n",
      "Pred   :  mois en mars et il est généralement humide en automne\n",
      "\n",
      "----------------------------------------------------------\n",
      "\n",
      "English:  sometimes mild during june and it is cold in september\n",
      "Actual :  parfois légère en juin et il fait froid en septembre\n",
      "Pred   :  fruit mois en juin et il est à en septembre\n",
      "\n",
      "----------------------------------------------------------\n",
      "\n",
      "English:  is the grape but my least liked is the apple\n",
      "Actual :  est le raisin mais mon moins aimé est la pomme\n",
      "Pred   :  est la l'orange mais votre moins aimé est la l'orange\n",
      "\n",
      "----------------------------------------------------------\n",
      "\n",
      "English:  fruit is the orange but my favorite is the grape\n",
      "Actual :  fruit préféré est l'orange mais mon préféré est le raisin\n",
      "Pred   :  fruit est la l'orange mais son favori est la pomme\n",
      "\n",
      "----------------------------------------------------------\n",
      "\n",
      "English:  relaxing during december but it is usually chilly in july\n",
      "Actual :  relaxant en décembre mais il est généralement froid en juillet\n",
      "Pred   :  mois en février mais il est généralement froid en juillet\n",
      "\n",
      "----------------------------------------------------------\n",
      "\n",
      "English:  busy during spring and it is never hot in march\n",
      "Actual :  occupé au printemps et il est jamais chaude en mars\n",
      "Pred   :  mois en printemps et il est jamais froid en mars\n",
      "\n",
      "----------------------------------------------------------\n",
      "\n",
      "English:  is the lemon but my least liked is the grape\n",
      "Actual :  aimé le citron mais mon moins aimé est le raisin\n",
      "Pred   :  est la l'orange mais votre moins aimé est la l'orange\n",
      "\n",
      "----------------------------------------------------------\n",
      "\n",
      "English:  busy during january and it is sometimes warm in november\n",
      "Actual :  occupé en janvier et il est parfois chaud en novembre\n",
      "Pred   :  mois en janvier et il est parfois à en novembre\n",
      "\n"
     ]
    }
   ],
   "source": [
    "for ind in range(10):\n",
    "    \n",
    "    pred = model.predict(en_enc[ind:ind+1])[0]\n",
    "\n",
    "    pre = []\n",
    "    act = []\n",
    "    inp = []\n",
    "\n",
    "    for i in pred:\n",
    "        pre.append(fr_tk.index_word[np.argmax(i)])\n",
    "\n",
    "    for i in range(10):\n",
    "        inp.append(en_tk.index_word[en_enc[ind:ind+1][0][i][0]])\n",
    "        \n",
    "    for i in range(10):\n",
    "        act.append(fr_tk.index_word[fr_enc[ind:ind+1][0][i][0]])\n",
    "\n",
    "    print '----------------------------------------------------------'\n",
    "    \n",
    "    print\n",
    "    print \"English: \",' '.join(inp)\n",
    "    print \"Actual : \",' '.join(act)\n",
    "    print \"Pred   : \",' '.join(pre)\n",
    "    print\n"
   ]
  },
  {
   "cell_type": "code",
   "execution_count": null,
   "metadata": {},
   "outputs": [],
   "source": []
  }
 ],
 "metadata": {
  "kernelspec": {
   "display_name": "Python 2",
   "language": "python",
   "name": "python2"
  },
  "language_info": {
   "codemirror_mode": {
    "name": "ipython",
    "version": 2
   },
   "file_extension": ".py",
   "mimetype": "text/x-python",
   "name": "python",
   "nbconvert_exporter": "python",
   "pygments_lexer": "ipython2",
   "version": "2.7.16"
  }
 },
 "nbformat": 4,
 "nbformat_minor": 2
}
